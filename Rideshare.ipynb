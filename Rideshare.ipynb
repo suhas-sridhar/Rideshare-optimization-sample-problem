{
 "cells": [
  {
   "cell_type": "markdown",
   "id": "79278a25",
   "metadata": {},
   "source": [
    "# Reusable code for ride-sharing optimization\n",
    "\n",
    "Linear optimization formulation to solve a simplified version of the pooling problem faced by ride-hailing companies such as Uber and Lyft. These companies provide discounts to riders who are willing to let their trips be \"pooled\" with another trip, so that a driver would pick up both riders before dropping off each of them at their respective destinations. Through pooling, the travel time of each rider would increase, but driver capacity is more efficiently utilized. This practice is only profitable if the company finds good matches between trips so as to maximize the total benefit of pooling. \n",
    "\n",
    "For simplicity, assume that each trip can be pooled with at most one other trip. The ride-hailing company has estimated the benefit of pooling for each pair of trips, which accounts for the potential cost savings from pooling and the potential inconveniences incurred for the pooled customers. As an illustration, suppose there are six trips, labelled A through F. The following table shows what the benefit values may look like.\n",
    "\n",
    "|Benefit of Pooling | A | B | C | D | E | F |\n",
    "|--|--|--|--|--|--|--|\n",
    "| A | 0 | 6 | 4 | 3 | 1 | 1 | \n",
    "| B | 6 | 0 | 5 | 5 | 2 | 3 |\n",
    "| C | 4 | 5 | 0 | 1 | 4 | 3 |\n",
    "| D | 3 | 5 | 1 | 0 | 2 | 1 |\n",
    "| E | 1 | 2 | 4 | 2 | 0 | 4 |\n",
    "| F | 1 | 3 | 3 | 1 | 4 | 0 |\n",
    "\n",
    "The ride-hailing company would like to pool trips so as to maximize the total benefit of pooled trips subject to the following constraints:\n",
    "\n",
    "- Each trip can be pooled with at most one other trip. (It is also possible for a trip to be not pooled)\n",
    "- For a pair of trips, if the benefit of pooling is strictly less than a threshold $t$, then the trips cannot be pooled. For example, if $t=3$, then the above table implies that A-D is a valid pooling, but B-E is not. \n",
    "- The total number of pooled pairs is at most $k$. In the above example, if $t=0$ and $k=3$, then the optimal solution is to pool A-C, B-D, and E-F, which yields a total benefit of $4+5+4=13$. However, if $t=0$ and $k=1$, then the optimal solution is to only pool A-B, which yields a benefit of $6$.\n",
    "\n",
    "Assume that $t$ is always a non-negative number, and $k$ is always a positive integer. "
   ]
  },
  {
   "cell_type": "markdown",
   "id": "fb4e367d",
   "metadata": {},
   "source": [
    "### Abstract formulation"
   ]
  },
  {
   "cell_type": "markdown",
   "id": "2963a1ea",
   "metadata": {},
   "source": [
    "**Data:**\n",
    "\n",
    "- $S$: set of trips.\n",
    "- $v_{ij}$: the benefit of pooling trip $i \\in S$ with trip $j \\in S$. \n",
    "- $t$: the threshold on the benefit of pooling below which pooling for the given pair is not allowed.\n",
    "- $k$: the maximum number of pooled pairs allowed.\n",
    "\n",
    "**Decision Variables:**\n",
    "\n",
    "- $x_{ij}$: whether to pool trip $i \\in S$ with trip $j \\in S$. (Binary) \n",
    "\n",
    "**Objective:**\n",
    "\n",
    "$$\\text{Maximize: } 0.5\\sum_{i \\in S, j \\in S} v_{ij}x_{ij} $$\n",
    "\n",
    "**Constraints:**\n",
    "\n",
    "$$\\begin{aligned}\n",
    "\\sum_{j \\in S}x_{ij} & \\le 1 && \\text{for each trip $i \\in S$.} \\\\\n",
    "x_{ii} & = 0 && \\text{for each trip $i \\in S$.} \\\\\n",
    "x_{ij} & = x_{ji} && \\text{for each pair $i\\in S, j \\in S$.} \\\\\n",
    "x_{ij} & = 0  && \\text{for each pair $i\\in S, j \\in S$ such that $v_{ij}<t$.} \\\\\n",
    "0.5\\sum_{i \\in S, j \\in S}x_{ij} & \\le k\n",
    "\\end{aligned}$$"
   ]
  },
  {
   "cell_type": "markdown",
   "id": "f50a1e1d",
   "metadata": {},
   "source": [
    "### Gurobi Code"
   ]
  },
  {
   "cell_type": "code",
   "execution_count": 1,
   "id": "4ee5ca2f",
   "metadata": {},
   "outputs": [],
   "source": [
    "import pandas as pd\n",
    "from gurobipy import Model, GRB"
   ]
  },
  {
   "cell_type": "code",
   "execution_count": 2,
   "id": "5adcf2ba",
   "metadata": {},
   "outputs": [],
   "source": [
    "def rideshare(inputFile,outputfile):\n",
    "#     inputFile='Rideshare.xlsx'\n",
    "#     outputfile='Solution.xlsx'\n",
    "    v=pd.read_excel(inputFile,sheet_name='Benefit of Pooling',index_col=0)\n",
    "    t=pd.read_excel(inputFile,sheet_name='Threshold').loc[0,'Threshold']\n",
    "    k=pd.read_excel(inputFile,sheet_name='Pool Limit').loc[0,'Maximum number of pooled pairs']\n",
    "    mod=Model()\n",
    "    I=v.index\n",
    "    J=v.columns\n",
    "    x=mod.addVars(I,J,name='x',vtype=GRB.BINARY)\n",
    "    mod.update()\n",
    "    mod.setObjective(0.5* sum(v.loc[i,j]* x[i,j] for i in I for j in J),sense=GRB.MAXIMIZE)\n",
    "    for i in I:\n",
    "        mod.addConstr(sum(x[i,j] for j in J)<=1)\n",
    "        mod.addConstr(x[i,i]==0)\n",
    "        for j in J:\n",
    "            mod.addConstr(x[i,j]==x[j,i])\n",
    "            if v.loc[i,j]<t:\n",
    "                mod.addConstr(x[i,j]==0)\n",
    "    mod.addConstr(0.5*sum(x[i,j] for i in I for j in J)<=k)\n",
    "    mod.setParam('OutputFlag', False)\n",
    "    mod.optimize()\n",
    "    optimized_table=pd.DataFrame(index=I,columns=J)\n",
    "    pool=[]\n",
    "    for i in I:\n",
    "        for j in J:\n",
    "            optimized_table.loc[i,j]=round(x[i,j].x)\n",
    "            if  x[i,j].x:\n",
    "                pool.append([i,j])\n",
    "    final = set()\n",
    "    upd=[x for x in pool if frozenset(x) not in final and not final.add(frozenset(x))]\n",
    "    objective=pd.DataFrame([mod.objval],columns=['Optimum benefit'])                \n",
    "    selection=pd.DataFrame(upd,columns=['Pool','With'])\n",
    "    selection\n",
    "    writer=pd.ExcelWriter(outputfile)\n",
    "    selection.to_excel(writer,sheet_name='optimal_pooling',index=False)\n",
    "    objective.to_excel(writer,sheet_name='objective',index=False)\n",
    "    writer.save()"
   ]
  },
  {
   "cell_type": "code",
   "execution_count": 3,
   "id": "fba55943",
   "metadata": {},
   "outputs": [
    {
     "name": "stdout",
     "output_type": "stream",
     "text": [
      "Set parameter Username\n",
      "Academic license - for non-commercial use only - expires 2022-01-29\n"
     ]
    }
   ],
   "source": [
    "#Sample run\n",
    "rideshare('Rideshare.xlsx','Solution.xlsx')"
   ]
  },
  {
   "cell_type": "code",
   "execution_count": null,
   "id": "566e32c6",
   "metadata": {},
   "outputs": [],
   "source": []
  }
 ],
 "metadata": {
  "kernelspec": {
   "display_name": "Python 3",
   "language": "python",
   "name": "python3"
  },
  "language_info": {
   "codemirror_mode": {
    "name": "ipython",
    "version": 3
   },
   "file_extension": ".py",
   "mimetype": "text/x-python",
   "name": "python",
   "nbconvert_exporter": "python",
   "pygments_lexer": "ipython3",
   "version": "3.8.8"
  }
 },
 "nbformat": 4,
 "nbformat_minor": 5
}
